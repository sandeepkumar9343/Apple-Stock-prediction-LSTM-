{
 "cells": [
  {
   "cell_type": "markdown",
   "metadata": {},
   "source": [
    "# Apple Stock Prediction using LSTM"
   ]
  },
  {
   "cell_type": "code",
   "execution_count": 1,
   "metadata": {},
   "outputs": [
    {
     "name": "stderr",
     "output_type": "stream",
     "text": [
      "Using TensorFlow backend.\n"
     ]
    }
   ],
   "source": [
    "#importing libraries.\n",
    "import numpy as np \n",
    "import pandas as pd\n",
    "import pandas_datareader as pdr\n",
    "import matplotlib.pyplot as plt\n",
    "%matplotlib inline\n",
    "from sklearn.preprocessing import StandardScaler\n",
    "from sklearn.model_selection import train_test_split\n",
    "from sklearn.preprocessing import MinMaxScaler\n",
    "from keras.models import Sequential\n",
    "from keras.layers import Dense,LSTM,Dropout"
   ]
  },
  {
   "cell_type": "code",
   "execution_count": 2,
   "metadata": {},
   "outputs": [],
   "source": [
    "#Downloading the 'APPLE' stock data from yahoo finance website from 2013-jan to 2019-Dec.\n",
    "df=pdr.DataReader('AAPL',data_source='yahoo',start='2013-01-01', end='2019-12-31')"
   ]
  },
  {
   "cell_type": "code",
   "execution_count": 3,
   "metadata": {},
   "outputs": [
    {
     "data": {
      "text/html": [
       "<div>\n",
       "<style scoped>\n",
       "    .dataframe tbody tr th:only-of-type {\n",
       "        vertical-align: middle;\n",
       "    }\n",
       "\n",
       "    .dataframe tbody tr th {\n",
       "        vertical-align: top;\n",
       "    }\n",
       "\n",
       "    .dataframe thead th {\n",
       "        text-align: right;\n",
       "    }\n",
       "</style>\n",
       "<table border=\"1\" class=\"dataframe\">\n",
       "  <thead>\n",
       "    <tr style=\"text-align: right;\">\n",
       "      <th></th>\n",
       "      <th>High</th>\n",
       "      <th>Low</th>\n",
       "      <th>Open</th>\n",
       "      <th>Close</th>\n",
       "      <th>Volume</th>\n",
       "      <th>Adj Close</th>\n",
       "    </tr>\n",
       "    <tr>\n",
       "      <th>Date</th>\n",
       "      <th></th>\n",
       "      <th></th>\n",
       "      <th></th>\n",
       "      <th></th>\n",
       "      <th></th>\n",
       "      <th></th>\n",
       "    </tr>\n",
       "  </thead>\n",
       "  <tbody>\n",
       "    <tr>\n",
       "      <th>2012-12-31</th>\n",
       "      <td>19.121429</td>\n",
       "      <td>18.178572</td>\n",
       "      <td>18.233213</td>\n",
       "      <td>19.006071</td>\n",
       "      <td>659492400.0</td>\n",
       "      <td>16.569740</td>\n",
       "    </tr>\n",
       "    <tr>\n",
       "      <th>2013-01-02</th>\n",
       "      <td>19.821428</td>\n",
       "      <td>19.343929</td>\n",
       "      <td>19.779285</td>\n",
       "      <td>19.608213</td>\n",
       "      <td>560518000.0</td>\n",
       "      <td>17.094694</td>\n",
       "    </tr>\n",
       "    <tr>\n",
       "      <th>2013-01-03</th>\n",
       "      <td>19.631071</td>\n",
       "      <td>19.321428</td>\n",
       "      <td>19.567142</td>\n",
       "      <td>19.360714</td>\n",
       "      <td>352965200.0</td>\n",
       "      <td>16.878920</td>\n",
       "    </tr>\n",
       "    <tr>\n",
       "      <th>2013-01-04</th>\n",
       "      <td>19.236786</td>\n",
       "      <td>18.779642</td>\n",
       "      <td>19.177500</td>\n",
       "      <td>18.821428</td>\n",
       "      <td>594333600.0</td>\n",
       "      <td>16.408764</td>\n",
       "    </tr>\n",
       "    <tr>\n",
       "      <th>2013-01-07</th>\n",
       "      <td>18.903572</td>\n",
       "      <td>18.400000</td>\n",
       "      <td>18.642857</td>\n",
       "      <td>18.710714</td>\n",
       "      <td>484156400.0</td>\n",
       "      <td>16.312239</td>\n",
       "    </tr>\n",
       "  </tbody>\n",
       "</table>\n",
       "</div>"
      ],
      "text/plain": [
       "                 High        Low       Open      Close       Volume  Adj Close\n",
       "Date                                                                          \n",
       "2012-12-31  19.121429  18.178572  18.233213  19.006071  659492400.0  16.569740\n",
       "2013-01-02  19.821428  19.343929  19.779285  19.608213  560518000.0  17.094694\n",
       "2013-01-03  19.631071  19.321428  19.567142  19.360714  352965200.0  16.878920\n",
       "2013-01-04  19.236786  18.779642  19.177500  18.821428  594333600.0  16.408764\n",
       "2013-01-07  18.903572  18.400000  18.642857  18.710714  484156400.0  16.312239"
      ]
     },
     "execution_count": 3,
     "metadata": {},
     "output_type": "execute_result"
    }
   ],
   "source": [
    "df.head()"
   ]
  },
  {
   "cell_type": "code",
   "execution_count": 4,
   "metadata": {},
   "outputs": [
    {
     "data": {
      "text/html": [
       "<div>\n",
       "<style scoped>\n",
       "    .dataframe tbody tr th:only-of-type {\n",
       "        vertical-align: middle;\n",
       "    }\n",
       "\n",
       "    .dataframe tbody tr th {\n",
       "        vertical-align: top;\n",
       "    }\n",
       "\n",
       "    .dataframe thead th {\n",
       "        text-align: right;\n",
       "    }\n",
       "</style>\n",
       "<table border=\"1\" class=\"dataframe\">\n",
       "  <thead>\n",
       "    <tr style=\"text-align: right;\">\n",
       "      <th></th>\n",
       "      <th>High</th>\n",
       "      <th>Low</th>\n",
       "      <th>Open</th>\n",
       "      <th>Close</th>\n",
       "      <th>Volume</th>\n",
       "      <th>Adj Close</th>\n",
       "    </tr>\n",
       "    <tr>\n",
       "      <th>Date</th>\n",
       "      <th></th>\n",
       "      <th></th>\n",
       "      <th></th>\n",
       "      <th></th>\n",
       "      <th></th>\n",
       "      <th></th>\n",
       "    </tr>\n",
       "  </thead>\n",
       "  <tbody>\n",
       "    <tr>\n",
       "      <th>2019-12-24</th>\n",
       "      <td>71.222504</td>\n",
       "      <td>70.730003</td>\n",
       "      <td>71.172501</td>\n",
       "      <td>71.067497</td>\n",
       "      <td>48478800.0</td>\n",
       "      <td>70.580566</td>\n",
       "    </tr>\n",
       "    <tr>\n",
       "      <th>2019-12-26</th>\n",
       "      <td>72.495003</td>\n",
       "      <td>71.175003</td>\n",
       "      <td>71.205002</td>\n",
       "      <td>72.477501</td>\n",
       "      <td>93121200.0</td>\n",
       "      <td>71.980911</td>\n",
       "    </tr>\n",
       "    <tr>\n",
       "      <th>2019-12-27</th>\n",
       "      <td>73.492500</td>\n",
       "      <td>72.029999</td>\n",
       "      <td>72.779999</td>\n",
       "      <td>72.449997</td>\n",
       "      <td>146266000.0</td>\n",
       "      <td>71.953598</td>\n",
       "    </tr>\n",
       "    <tr>\n",
       "      <th>2019-12-30</th>\n",
       "      <td>73.172501</td>\n",
       "      <td>71.305000</td>\n",
       "      <td>72.364998</td>\n",
       "      <td>72.879997</td>\n",
       "      <td>144114400.0</td>\n",
       "      <td>72.380653</td>\n",
       "    </tr>\n",
       "    <tr>\n",
       "      <th>2019-12-31</th>\n",
       "      <td>73.419998</td>\n",
       "      <td>72.379997</td>\n",
       "      <td>72.482498</td>\n",
       "      <td>73.412498</td>\n",
       "      <td>100805600.0</td>\n",
       "      <td>72.909500</td>\n",
       "    </tr>\n",
       "  </tbody>\n",
       "</table>\n",
       "</div>"
      ],
      "text/plain": [
       "                 High        Low       Open      Close       Volume  Adj Close\n",
       "Date                                                                          \n",
       "2019-12-24  71.222504  70.730003  71.172501  71.067497   48478800.0  70.580566\n",
       "2019-12-26  72.495003  71.175003  71.205002  72.477501   93121200.0  71.980911\n",
       "2019-12-27  73.492500  72.029999  72.779999  72.449997  146266000.0  71.953598\n",
       "2019-12-30  73.172501  71.305000  72.364998  72.879997  144114400.0  72.380653\n",
       "2019-12-31  73.419998  72.379997  72.482498  73.412498  100805600.0  72.909500"
      ]
     },
     "execution_count": 4,
     "metadata": {},
     "output_type": "execute_result"
    }
   ],
   "source": [
    "df.tail()"
   ]
  },
  {
   "cell_type": "code",
   "execution_count": 5,
   "metadata": {},
   "outputs": [
    {
     "data": {
      "text/plain": [
       "(1763, 6)"
      ]
     },
     "execution_count": 5,
     "metadata": {},
     "output_type": "execute_result"
    }
   ],
   "source": [
    "df.shape"
   ]
  },
  {
   "cell_type": "code",
   "execution_count": 6,
   "metadata": {},
   "outputs": [
    {
     "data": {
      "text/plain": [
       "Index(['High', 'Low', 'Open', 'Close', 'Volume', 'Adj Close'], dtype='object')"
      ]
     },
     "execution_count": 6,
     "metadata": {},
     "output_type": "execute_result"
    }
   ],
   "source": [
    "df.columns"
   ]
  },
  {
   "cell_type": "code",
   "execution_count": 7,
   "metadata": {},
   "outputs": [
    {
     "name": "stderr",
     "output_type": "stream",
     "text": [
      "C:\\Users\\sandeep\\Anaconda3\\lib\\site-packages\\pandas\\plotting\\_converter.py:129: FutureWarning: Using an implicitly registered datetime converter for a matplotlib plotting method. The converter was registered by pandas on import. Future versions of pandas will require you to explicitly register matplotlib converters.\n",
      "\n",
      "To register the converters:\n",
      "\t>>> from pandas.plotting import register_matplotlib_converters\n",
      "\t>>> register_matplotlib_converters()\n",
      "  warnings.warn(msg, FutureWarning)\n"
     ]
    },
    {
     "data": {
      "image/png": "[encoded data removed]",
      "text/plain": [
       "<Figure size 864x576 with 1 Axes>"
      ]
     },
     "metadata": {
      "needs_background": "light"
     },
     "output_type": "display_data"
    }
   ],
   "source": [
    "#Ploting the Close price movement from 2013-Jan to 2019-Dec\n",
    "plt.figure(figsize=(12,8))\n",
    "plt.plot(df['Close'])\n",
    "plt.title('Close price movement')\n",
    "plt.xlabel('Days',fontsize=18)\n",
    "plt.ylabel('Close price in $ ',fontsize=18)\n",
    "plt.show()"
   ]
  },
  {
   "cell_type": "code",
   "execution_count": 8,
   "metadata": {},
   "outputs": [
    {
     "data": {
      "text/plain": [
       "1763"
      ]
     },
     "execution_count": 8,
     "metadata": {},
     "output_type": "execute_result"
    }
   ],
   "source": [
    "#we are intrested in only \"Close\" price of all the days. \n",
    "data=df.filter(['Close'])\n",
    "dataset=data.values\n",
    "len(dataset)"
   ]
  },
  {
   "cell_type": "code",
   "execution_count": 9,
   "metadata": {},
   "outputs": [
    {
     "data": {
      "text/plain": [
       "1234"
      ]
     },
     "execution_count": 9,
     "metadata": {},
     "output_type": "execute_result"
    }
   ],
   "source": [
    "##splitting dataset into train and test split\n",
    "training_size=int(len(dataset)*0.70)\n",
    "test_size=len(dataset)-training_size\n",
    "training_size"
   ]
  },
  {
   "cell_type": "code",
   "execution_count": 10,
   "metadata": {},
   "outputs": [],
   "source": [
    "#LSTM model requires the data to be scaled.\n",
    "#So we scaling the data between 0 to 1.\n",
    "scaler=MinMaxScaler(feature_range=(0,1))\n",
    "scaled_data=scaler.fit_transform(dataset)"
   ]
  },
  {
   "cell_type": "code",
   "execution_count": 11,
   "metadata": {},
   "outputs": [
    {
     "data": {
      "text/plain": [
       "array([[0.08506804],\n",
       "       [0.09519404],\n",
       "       [0.09103193],\n",
       "       ...,\n",
       "       [0.98381398],\n",
       "       [0.99104513],\n",
       "       [1.        ]])"
      ]
     },
     "execution_count": 11,
     "metadata": {},
     "output_type": "execute_result"
    }
   ],
   "source": [
    "scaled_data"
   ]
  },
  {
   "cell_type": "code",
   "execution_count": 13,
   "metadata": {},
   "outputs": [],
   "source": [
    "#preparing the train_x  nad train_y data, taking the timestamp as 60.\n",
    "#for predicting the tomarrow's stock price it takes past 60 days price.\n",
    "train_data=scaled_data[0:training_size, :]\n",
    "x_train=[]\n",
    "y_train=[]\n",
    "for i in range(60,len(train_data)):\n",
    "    x_train.append(train_data[i-60:i, 0])\n",
    "    y_train.append(train_data[i,0])"
   ]
  },
  {
   "cell_type": "code",
   "execution_count": 14,
   "metadata": {},
   "outputs": [],
   "source": [
    "#converting the data into numpy array \n",
    "x_train, y_train = np.array(x_train), np.array(y_train)\n",
    "# reshape input to be [samples, time steps, features] which is required for LSTM\n",
    "x_train =np.reshape(x_train, (x_train.shape[0],x_train.shape[1],1))\n"
   ]
  },
  {
   "cell_type": "markdown",
   "metadata": {},
   "source": [
    "# Model Creation"
   ]
  },
  {
   "cell_type": "code",
   "execution_count": 32,
   "metadata": {},
   "outputs": [],
   "source": [
    "model = Sequential()\n",
    "\n",
    "model.add(LSTM(units = 120, return_sequences = True, input_shape = (x_train.shape[1], 1)))\n",
    "model.add(Dropout(0.2))\n",
    "\n",
    "model.add(LSTM(units = 80, return_sequences = True))\n",
    "model.add(Dropout(0.2))\n",
    "\n",
    "model.add(LSTM(units = 60, return_sequences = True))\n",
    "model.add(Dropout(0.2))\n",
    "\n",
    "model.add(LSTM(units = 40))\n",
    "model.add(Dropout(0.2))\n",
    "\n",
    "model.add(Dense(units = 1))"
   ]
  },
  {
   "cell_type": "code",
   "execution_count": 33,
   "metadata": {},
   "outputs": [
    {
     "name": "stdout",
     "output_type": "stream",
     "text": [
      "Epoch 1/25\n",
      "1174/1174 [==============================] - 7s 6ms/step - loss: 0.0048\n",
      "Epoch 2/25\n",
      "1174/1174 [==============================] - 6s 5ms/step - loss: 0.0013\n",
      "Epoch 3/25\n",
      "1174/1174 [==============================] - 6s 5ms/step - loss: 0.0011\n",
      "Epoch 4/25\n",
      "1174/1174 [==============================] - 6s 5ms/step - loss: 9.1577e-04\n",
      "Epoch 5/25\n",
      "1174/1174 [==============================] - 6s 5ms/step - loss: 0.0010\n",
      "Epoch 6/25\n",
      "1174/1174 [==============================] - 6s 5ms/step - loss: 8.8485e-04\n",
      "Epoch 7/25\n",
      "1174/1174 [==============================] - 6s 5ms/step - loss: 7.8409e-04\n",
      "Epoch 8/25\n",
      "1174/1174 [==============================] - 6s 5ms/step - loss: 7.1424e-04\n",
      "Epoch 9/25\n",
      "1174/1174 [==============================] - 6s 5ms/step - loss: 7.6949e-04\n",
      "Epoch 10/25\n",
      "1174/1174 [==============================] - 6s 5ms/step - loss: 7.3647e-04\n",
      "Epoch 11/25\n",
      "1174/1174 [==============================] - 6s 5ms/step - loss: 6.3749e-04\n",
      "Epoch 12/25\n",
      "1174/1174 [==============================] - 6s 5ms/step - loss: 6.1926e-04\n",
      "Epoch 13/25\n",
      "1174/1174 [==============================] - 6s 5ms/step - loss: 5.2999e-04\n",
      "Epoch 14/25\n",
      "1174/1174 [==============================] - 5s 5ms/step - loss: 6.0216e-04\n",
      "Epoch 15/25\n",
      "1174/1174 [==============================] - 6s 5ms/step - loss: 6.2798e-04\n",
      "Epoch 16/25\n",
      "1174/1174 [==============================] - 6s 5ms/step - loss: 4.7990e-04\n",
      "Epoch 17/25\n",
      "1174/1174 [==============================] - 5s 5ms/step - loss: 4.7387e-04\n",
      "Epoch 18/25\n",
      "1174/1174 [==============================] - 6s 5ms/step - loss: 4.6549e-04\n",
      "Epoch 19/25\n",
      "1174/1174 [==============================] - 5s 5ms/step - loss: 5.1522e-04\n",
      "Epoch 20/25\n",
      "1174/1174 [==============================] - 5s 5ms/step - loss: 4.7869e-04\n",
      "Epoch 21/25\n",
      "1174/1174 [==============================] - 6s 5ms/step - loss: 4.5339e-04\n",
      "Epoch 22/25\n",
      "1174/1174 [==============================] - 5s 5ms/step - loss: 4.5592e-04\n",
      "Epoch 23/25\n",
      "1174/1174 [==============================] - 5s 5ms/step - loss: 4.0910e-04\n",
      "Epoch 24/25\n",
      "1174/1174 [==============================] - 5s 5ms/step - loss: 4.3038e-04\n",
      "Epoch 25/25\n",
      "1174/1174 [==============================] - 5s 5ms/step - loss: 3.9374e-04\n"
     ]
    },
    {
     "data": {
      "text/plain": [
       "<keras.callbacks.callbacks.History at 0x1683cbd4f98>"
      ]
     },
     "execution_count": 33,
     "metadata": {},
     "output_type": "execute_result"
    }
   ],
   "source": [
    "#Compiling the Model.\n",
    "model.compile(optimizer = 'adam', loss = 'mean_squared_error')\n",
    "model.fit(x_train, y_train,epochs = 25, batch_size = 16)"
   ]
  },
  {
   "cell_type": "code",
   "execution_count": 34,
   "metadata": {},
   "outputs": [],
   "source": [
    "#Preparing the Test data same as training data.\n",
    "test_data=scaled_data[training_size-60:, :]\n",
    "x_test=[]\n",
    "y_test=dataset[training_size:, :]\n",
    "for i in range(60,len(test_data)):\n",
    "    x_test.append(test_data[i-60:i,0])\n",
    "    "
   ]
  },
  {
   "cell_type": "code",
   "execution_count": 35,
   "metadata": {},
   "outputs": [],
   "source": [
    "#converting the data into array.\n",
    "x_test=np.array(x_test)"
   ]
  },
  {
   "cell_type": "code",
   "execution_count": 36,
   "metadata": {},
   "outputs": [],
   "source": [
    "#changing the shape of test data.\n",
    "x_test =np.reshape(x_test, (x_test.shape[0],x_test.shape[1],1))"
   ]
  },
  {
   "cell_type": "code",
   "execution_count": 37,
   "metadata": {},
   "outputs": [],
   "source": [
    "#predicting the test data\n",
    "predictions=model.predict(x_test)\n",
    "#predicted values are in between 0 to 1. So we inverse transforming the values\n",
    "predictions=scaler.inverse_transform(predictions)"
   ]
  },
  {
   "cell_type": "code",
   "execution_count": 38,
   "metadata": {},
   "outputs": [
    {
     "data": {
      "text/plain": [
       "1.6946987658099657"
      ]
     },
     "execution_count": 38,
     "metadata": {},
     "output_type": "execute_result"
    }
   ],
   "source": [
    "### Calculate RMSE performance metrics\n",
    "import math\n",
    "from sklearn.metrics import mean_squared_error\n",
    "math.sqrt(mean_squared_error(y_test,predictions))"
   ]
  },
  {
   "cell_type": "code",
   "execution_count": 39,
   "metadata": {},
   "outputs": [
    {
     "name": "stderr",
     "output_type": "stream",
     "text": [
      "C:\\Users\\sandeep\\Anaconda3\\lib\\site-packages\\ipykernel_launcher.py:3: SettingWithCopyWarning: \n",
      "A value is trying to be set on a copy of a slice from a DataFrame.\n",
      "Try using .loc[row_indexer,col_indexer] = value instead\n",
      "\n",
      "See the caveats in the documentation: http://pandas.pydata.org/pandas-docs/stable/indexing.html#indexing-view-versus-copy\n",
      "  This is separate from the ipykernel package so we can avoid doing imports until\n"
     ]
    },
    {
     "data": {
      "image/png": "[encoded data removed]",
      "text/plain": [
       "<Figure size 1152x576 with 1 Axes>"
      ]
     },
     "metadata": {
      "needs_background": "light"
     },
     "output_type": "display_data"
    }
   ],
   "source": [
    "#plolting the original train data,test data and predicted data.\n",
    "#we can observe our predictions are closer to the actual values.\n",
    "train=data[:training_size]\n",
    "valid=data[training_size:]\n",
    "valid['predictions']=predictions\n",
    "plt.figure(figsize=(16,8))\n",
    "plt.title('Model Lm')\n",
    "plt.xlabel('Date',fontsize=18)\n",
    "plt.ylabel('Close price in $ ',fontsize=18)\n",
    "plt.plot(train['Close'])\n",
    "plt.plot(valid[['Close','predictions']])\n",
    "plt.legend(['train','val','predictions'],loc='lower right')\n",
    "plt.show()"
   ]
  },
  {
   "cell_type": "code",
   "execution_count": null,
   "metadata": {},
   "outputs": [],
   "source": []
  }
 ],
 "metadata": {
  "kernelspec": {
   "display_name": "Python 3",
   "language": "python",
   "name": "python3"
  },
  "language_info": {
   "codemirror_mode": {
    "name": "ipython",
    "version": 3
   },
   "file_extension": ".py",
   "mimetype": "text/x-python",
   "name": "python",
   "nbconvert_exporter": "python",
   "pygments_lexer": "ipython3",
   "version": "3.7.3"
  }
 },
 "nbformat": 4,
 "nbformat_minor": 2
}
